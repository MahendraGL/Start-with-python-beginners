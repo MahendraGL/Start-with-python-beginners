{
  "nbformat": 4,
  "nbformat_minor": 0,
  "metadata": {
    "colab": {
      "provenance": []
    },
    "kernelspec": {
      "name": "python3",
      "display_name": "Python 3"
    },
    "language_info": {
      "name": "python"
    }
  },
  "cells": [
    {
      "cell_type": "code",
      "execution_count": null,
      "metadata": {
        "colab": {
          "base_uri": "https://localhost:8080/"
        },
        "id": "syr7_JRPn0eK",
        "outputId": "5bd2f284-0759-47c2-a44c-b5983695944b"
      },
      "outputs": [
        {
          "output_type": "stream",
          "name": "stdout",
          "text": [
            "Entre 3 ages sperated by spaces:30 20 10\n",
            "a is largest\n"
          ]
        }
      ],
      "source": [
        "# To print largest\n",
        "a,b,c=map(int,input(\"Entre 3 ages sperated by spaces:\").split())\n",
        "if a>b and a>c:\n",
        "  print(\"a is largest\")\n",
        "elif b>c:\n",
        "  print(\"b is largest\")\n",
        "else:\n",
        "  print(\"c is largest\")\n"
      ]
    },
    {
      "cell_type": "code",
      "source": [
        "# Celius to farenheit\n",
        "c=float(input(\"Entre value in degree c \"))\n",
        "\n",
        "f=c*(9/5) + 32\n",
        "\n",
        "print(f)"
      ],
      "metadata": {
        "colab": {
          "base_uri": "https://localhost:8080/"
        },
        "id": "N_Ps9KckqYcp",
        "outputId": "0060fd4d-7368-41be-f8e5-16e01dd1af86"
      },
      "execution_count": null,
      "outputs": [
        {
          "output_type": "stream",
          "name": "stdout",
          "text": [
            "Entre value in degree c25.3\n",
            "77.53999999999999\n"
          ]
        }
      ]
    },
    {
      "cell_type": "code",
      "source": [
        "# User will input (2numbers).Write a program to swap the numbers\n",
        "a,b=map(float,input(\"Entre numbers to swap: \").split())\n",
        "# x=0\n",
        "# if a!=0 and b!=0:\n",
        "#   x=a\n",
        "#   a=b\n",
        "#   b=x\n",
        "\n",
        "a,b=b,a\n",
        "print(a)\n",
        "print(b)"
      ],
      "metadata": {
        "colab": {
          "base_uri": "https://localhost:8080/"
        },
        "id": "UvReIGy5q6fU",
        "outputId": "fe4dfd35-accd-4ade-cb5c-d9e9aad9fd80"
      },
      "execution_count": null,
      "outputs": [
        {
          "output_type": "stream",
          "name": "stdout",
          "text": [
            "Entre numbers to swap: 10 20\n",
            "20.0\n",
            "10.0\n"
          ]
        }
      ]
    },
    {
      "cell_type": "code",
      "source": [
        "#sum of 3 digits\n",
        "a,b,c=map(int,input(\"Entre 3 ages sperated by spaces:\").split())\n",
        "\n",
        "d=a+b+c\n",
        "d\n"
      ],
      "metadata": {
        "colab": {
          "base_uri": "https://localhost:8080/"
        },
        "id": "YtflvxZqtHB8",
        "outputId": "46715c5b-3f7a-46a5-accf-77884b08f3ce"
      },
      "execution_count": null,
      "outputs": [
        {
          "name": "stdout",
          "output_type": "stream",
          "text": [
            "Entre 3 ages sperated by spaces:10 20 30\n"
          ]
        },
        {
          "output_type": "execute_result",
          "data": {
            "text/plain": [
              "60"
            ]
          },
          "metadata": {},
          "execution_count": 24
        }
      ]
    },
    {
      "cell_type": "code",
      "source": [
        "#reverse a four digit number\n",
        "\n",
        "a = int(input(\"Enter a 4-digit number: \"))\n",
        "num_rev=''\n",
        "str_a=str(a)\n",
        "i=0\n",
        "for _ in range(4):\n",
        "  i+=1\n",
        "  num_rev+=str_a[-i]\n",
        "\n",
        "num_rev=int(num_rev)\n",
        "print(num_rev)\n",
        "type(num_rev)\n"
      ],
      "metadata": {
        "colab": {
          "base_uri": "https://localhost:8080/"
        },
        "id": "4mjj7qHItuvu",
        "outputId": "48544e62-6c7e-417c-9bf6-b1a67018ae75"
      },
      "execution_count": null,
      "outputs": [
        {
          "output_type": "stream",
          "name": "stdout",
          "text": [
            "Enter a 4-digit number: 1332\n",
            "2331\n"
          ]
        },
        {
          "output_type": "execute_result",
          "data": {
            "text/plain": [
              "int"
            ]
          },
          "metadata": {},
          "execution_count": 50
        }
      ]
    },
    {
      "cell_type": "code",
      "source": [
        "import numpy as np\n",
        "a,b=map(int,input(\"Entre two coordinates: \").split())\n",
        "\n",
        "dist=np.sqrt(a**2 + b**2)\n",
        "\n",
        "print(dist)\n"
      ],
      "metadata": {
        "colab": {
          "base_uri": "https://localhost:8080/"
        },
        "id": "Y_6NT66CuIX0",
        "outputId": "a429e522-97a5-4537-9859-d07a6e799169"
      },
      "execution_count": null,
      "outputs": [
        {
          "output_type": "stream",
          "name": "stdout",
          "text": [
            "Entre two coordinates: 3 4\n",
            "5.0\n"
          ]
        }
      ]
    },
    {
      "cell_type": "code",
      "source": [
        "a,b,c=map(float,input(\"Entre angles in degrees: \").split())\n",
        "\n",
        "if (a+b+c)!=180:\n",
        "  print(\"Not ok\")\n",
        "  if a+b>c and a+b+c>180:\n",
        "    print(\"Not possible\")\n",
        "  else:\n",
        "    print(\"OK\")"
      ],
      "metadata": {
        "colab": {
          "base_uri": "https://localhost:8080/"
        },
        "id": "xd89WfKl7E9G",
        "outputId": "7d467e0c-8c7c-47a0-b1a0-84a642fc6e58"
      },
      "execution_count": null,
      "outputs": [
        {
          "output_type": "stream",
          "name": "stdout",
          "text": [
            "Entre angles in degrees: 25 35 75\n",
            "Not ok\n",
            "OK\n"
          ]
        }
      ]
    },
    {
      "cell_type": "code",
      "source": [
        "a=int(input(\"Entre no of dogs: \"))\n",
        "b=int(input(\"Entre no of chimkens: \"))\n",
        "\n",
        "leg_dogs=a*4\n",
        "leg_chimken=b*2\n",
        "\n",
        "total_heads=a+b\n",
        "total_legs= leg_dogs+leg_chimken\n",
        "print(total_legs, total_heads)"
      ],
      "metadata": {
        "colab": {
          "base_uri": "https://localhost:8080/"
        },
        "id": "EYwxC4Gq7uaj",
        "outputId": "cef91a5f-ee8a-44cb-c97b-292506368f7e"
      },
      "execution_count": null,
      "outputs": [
        {
          "output_type": "stream",
          "name": "stdout",
          "text": [
            "Entre no of dogs: 4\n",
            "Entre no of chimkens: 3\n",
            "22 7\n"
          ]
        }
      ]
    },
    {
      "cell_type": "code",
      "source": [
        "a=int(input())\n",
        "sum=0\n",
        "for i in range(1,a+1):\n",
        "  sum+=i\n",
        "\n",
        "print(sum)"
      ],
      "metadata": {
        "colab": {
          "base_uri": "https://localhost:8080/"
        },
        "id": "oZXCbv4V94dN",
        "outputId": "46733983-fd0d-45ed-baf3-a4b04811e8d1"
      },
      "execution_count": null,
      "outputs": [
        {
          "output_type": "stream",
          "name": "stdout",
          "text": [
            "10\n",
            "55\n"
          ]
        }
      ]
    },
    {
      "cell_type": "code",
      "source": [
        "\n",
        "a=int(input())\n",
        "b=int(input())\n",
        "mul=0\n",
        "for i in range(1,b+1):\n",
        "  mul+=a\n",
        "  print(a,\"*\",i,\"=\",mul)\n",
        "\n",
        "mul\n"
      ],
      "metadata": {
        "colab": {
          "base_uri": "https://localhost:8080/"
        },
        "id": "IyQghPFq_ZLv",
        "outputId": "a5be8e45-8037-490b-e296-853cd30c207a"
      },
      "execution_count": null,
      "outputs": [
        {
          "output_type": "stream",
          "name": "stdout",
          "text": [
            "4\n",
            "10\n",
            "4 * 1 = 4\n",
            "4 * 2 = 8\n",
            "4 * 3 = 12\n",
            "4 * 4 = 16\n",
            "4 * 5 = 20\n",
            "4 * 6 = 24\n",
            "4 * 7 = 28\n",
            "4 * 8 = 32\n",
            "4 * 9 = 36\n",
            "4 * 10 = 40\n"
          ]
        },
        {
          "output_type": "execute_result",
          "data": {
            "text/plain": [
              "40"
            ]
          },
          "metadata": {},
          "execution_count": 78
        }
      ]
    },
    {
      "cell_type": "code",
      "source": [
        "import calendar\n",
        "\n",
        "yy=int(input(\"Year\"))\n",
        "n=12\n",
        "for i in range(1,n+1):\n",
        "  mm=i\n",
        "  print(calendar.month(yy,mm))"
      ],
      "metadata": {
        "colab": {
          "base_uri": "https://localhost:8080/"
        },
        "id": "eEoXbvxFzqKE",
        "outputId": "804f8171-6340-4fd4-9c3b-7d2c756595b2"
      },
      "execution_count": null,
      "outputs": [
        {
          "output_type": "stream",
          "name": "stdout",
          "text": [
            "Year1\n",
            "     January 1\n",
            "Mo Tu We Th Fr Sa Su\n",
            " 1  2  3  4  5  6  7\n",
            " 8  9 10 11 12 13 14\n",
            "15 16 17 18 19 20 21\n",
            "22 23 24 25 26 27 28\n",
            "29 30 31\n",
            "\n",
            "     February 1\n",
            "Mo Tu We Th Fr Sa Su\n",
            "          1  2  3  4\n",
            " 5  6  7  8  9 10 11\n",
            "12 13 14 15 16 17 18\n",
            "19 20 21 22 23 24 25\n",
            "26 27 28\n",
            "\n",
            "      March 1\n",
            "Mo Tu We Th Fr Sa Su\n",
            "          1  2  3  4\n",
            " 5  6  7  8  9 10 11\n",
            "12 13 14 15 16 17 18\n",
            "19 20 21 22 23 24 25\n",
            "26 27 28 29 30 31\n",
            "\n",
            "      April 1\n",
            "Mo Tu We Th Fr Sa Su\n",
            "                   1\n",
            " 2  3  4  5  6  7  8\n",
            " 9 10 11 12 13 14 15\n",
            "16 17 18 19 20 21 22\n",
            "23 24 25 26 27 28 29\n",
            "30\n",
            "\n",
            "       May 1\n",
            "Mo Tu We Th Fr Sa Su\n",
            "    1  2  3  4  5  6\n",
            " 7  8  9 10 11 12 13\n",
            "14 15 16 17 18 19 20\n",
            "21 22 23 24 25 26 27\n",
            "28 29 30 31\n",
            "\n",
            "       June 1\n",
            "Mo Tu We Th Fr Sa Su\n",
            "             1  2  3\n",
            " 4  5  6  7  8  9 10\n",
            "11 12 13 14 15 16 17\n",
            "18 19 20 21 22 23 24\n",
            "25 26 27 28 29 30\n",
            "\n",
            "       July 1\n",
            "Mo Tu We Th Fr Sa Su\n",
            "                   1\n",
            " 2  3  4  5  6  7  8\n",
            " 9 10 11 12 13 14 15\n",
            "16 17 18 19 20 21 22\n",
            "23 24 25 26 27 28 29\n",
            "30 31\n",
            "\n",
            "      August 1\n",
            "Mo Tu We Th Fr Sa Su\n",
            "       1  2  3  4  5\n",
            " 6  7  8  9 10 11 12\n",
            "13 14 15 16 17 18 19\n",
            "20 21 22 23 24 25 26\n",
            "27 28 29 30 31\n",
            "\n",
            "    September 1\n",
            "Mo Tu We Th Fr Sa Su\n",
            "                1  2\n",
            " 3  4  5  6  7  8  9\n",
            "10 11 12 13 14 15 16\n",
            "17 18 19 20 21 22 23\n",
            "24 25 26 27 28 29 30\n",
            "\n",
            "     October 1\n",
            "Mo Tu We Th Fr Sa Su\n",
            " 1  2  3  4  5  6  7\n",
            " 8  9 10 11 12 13 14\n",
            "15 16 17 18 19 20 21\n",
            "22 23 24 25 26 27 28\n",
            "29 30 31\n",
            "\n",
            "     November 1\n",
            "Mo Tu We Th Fr Sa Su\n",
            "          1  2  3  4\n",
            " 5  6  7  8  9 10 11\n",
            "12 13 14 15 16 17 18\n",
            "19 20 21 22 23 24 25\n",
            "26 27 28 29 30\n",
            "\n",
            "     December 1\n",
            "Mo Tu We Th Fr Sa Su\n",
            "                1  2\n",
            " 3  4  5  6  7  8  9\n",
            "10 11 12 13 14 15 16\n",
            "17 18 19 20 21 22 23\n",
            "24 25 26 27 28 29 30\n",
            "31\n",
            "\n"
          ]
        }
      ]
    },
    {
      "cell_type": "code",
      "source": [
        "#first number of factorial:\n",
        "\n",
        "\n",
        "def firstfactorial(num):\n",
        "  fact=1\n",
        "  for i in range(1,num+1):\n",
        "    fact=fact*i\n",
        "  return fact\n",
        "\n",
        "num=int(input(\"Entre number for fact: \"))\n",
        "firstfactorial(num)"
      ],
      "metadata": {
        "id": "IuxwDYhp0N1T",
        "colab": {
          "base_uri": "https://localhost:8080/"
        },
        "outputId": "e101d7a3-fc34-4ca5-c7e6-626bc773aa4b"
      },
      "execution_count": null,
      "outputs": [
        {
          "name": "stdout",
          "output_type": "stream",
          "text": [
            "Entre number for fact: 8\n"
          ]
        },
        {
          "output_type": "execute_result",
          "data": {
            "text/plain": [
              "40320"
            ]
          },
          "metadata": {},
          "execution_count": 12
        }
      ]
    },
    {
      "cell_type": "code",
      "source": [
        "def is_surrounded_by_plus_or_equal(input_str):\n",
        "    for i in range(1, len(input_str) - 1):\n",
        "        if (input_str[i - 1] == '+' or input_str[i - 1] == '=') and (input_str[i + 1] == '+' or input_str[i + 1] == '='):\n",
        "            if input_str[i].isalpha():\n",
        "                return True\n",
        "    return False\n",
        "\n",
        "# Get input from the user\n",
        "user_input = input(\"Enter a string: \")\n",
        "\n",
        "# Check and print the result\n",
        "result = is_surrounded_by_plus_or_equal(user_input)\n",
        "print(result)"
      ],
      "metadata": {
        "colab": {
          "base_uri": "https://localhost:8080/"
        },
        "id": "imLLGa0e9bJx",
        "outputId": "78f7ea78-96a0-4dd0-d63b-4a562c0b2152"
      },
      "execution_count": null,
      "outputs": [
        {
          "output_type": "stream",
          "name": "stdout",
          "text": [
            "Enter a string: +5+=d=+n\n",
            "True\n"
          ]
        }
      ]
    },
    {
      "cell_type": "code",
      "source": [
        "def is_surrounded_by_plus_equals(input_str):\n",
        "    for i in range(len(input_str)):\n",
        "        if input_str[i].isalpha():\n",
        "            if i > 0 and i < len(input_str) - 1:\n",
        "                if (input_str[i-1] not in ['+', '=']) or (input_str[i+1] not in ['+', '=']):\n",
        "                    return False\n",
        "    return True\n",
        "\n",
        "# Take user input\n",
        "user_input = input(\"Enter a string: \")\n",
        "\n",
        "# Check if alphabetic characters are surrounded by '+' or '='\n",
        "result = is_surrounded_by_plus_equals(user_input)\n",
        "\n",
        "# Print the result\n",
        "print(result)\n"
      ],
      "metadata": {
        "colab": {
          "base_uri": "https://localhost:8080/"
        },
        "id": "moqPoSLl_i_v",
        "outputId": "819b02b1-29fc-4e52-ec1a-4967b7e5f549"
      },
      "execution_count": null,
      "outputs": [
        {
          "output_type": "stream",
          "name": "stdout",
          "text": [
            "Enter a string: +5+=d++n+\n",
            "True\n"
          ]
        }
      ]
    },
    {
      "cell_type": "code",
      "source": [
        "def string(input_str):\n",
        "    char = []\n",
        "    for i in range(len(input_str)):\n",
        "        if i > 0 and i < len(input_str) - 1:\n",
        "            if (input_str[i-1] == '+' or input_str[i-1] == '=') and (input_str[i+1] == '+' or input_str[i+1] == '='):\n",
        "                char.append(input_str[i])\n",
        "    return char\n",
        "\n",
        "# Example usage:\n",
        "input_str = \"+5+=d=+n+\"\n",
        "result = string(input_str)\n",
        "print(result)\n",
        "\n",
        "\n"
      ],
      "metadata": {
        "colab": {
          "base_uri": "https://localhost:8080/"
        },
        "id": "jaQ8A8JIA_c2",
        "outputId": "7d54deda-2a62-4f56-97fc-fcac91b3390e"
      },
      "execution_count": null,
      "outputs": [
        {
          "output_type": "stream",
          "name": "stdout",
          "text": [
            "['5', 'd', 'n']\n"
          ]
        }
      ]
    },
    {
      "cell_type": "code",
      "source": [
        "array=[10,62,12,15,17,15]\n",
        "\n",
        "largest=0\n",
        "sum=0\n",
        "for i in array:\n",
        "  if i>largest:\n",
        "    largest=i\n",
        "index_of_largest = array.index(max(array))\n",
        "array.pop(index_of_largest)\n",
        "for k in array:\n",
        "  sum+=k\n",
        "\n",
        "if sum>largest:\n",
        "  print(True)\n",
        "else:\n",
        "  print(False)\n",
        "\n",
        "\n"
      ],
      "metadata": {
        "colab": {
          "base_uri": "https://localhost:8080/"
        },
        "id": "xc-aywlCPp-S",
        "outputId": "6f5fbab7-6cc9-4aa6-f599-ab755666c264"
      },
      "execution_count": null,
      "outputs": [
        {
          "output_type": "stream",
          "name": "stdout",
          "text": [
            "True\n"
          ]
        }
      ]
    },
    {
      "cell_type": "code",
      "source": [
        "def generate_pascals_triangle(num_rows):\n",
        "    triangle = []\n",
        "    for i in range(num_rows):\n",
        "        row = [1] * (i + 1)\n",
        "        for j in range(1, i):\n",
        "            row[j] = triangle[i - 1][j - 1] + triangle[i - 1][j]\n",
        "        triangle.append(row)\n",
        "    return triangle\n",
        "\n",
        "def print_pascals_triangle(triangle):\n",
        "    for row in triangle:\n",
        "        print(' '.join(map(str, row)).center(len(triangle[-1])*3))\n",
        "\n",
        "# Example usage:\n",
        "num_rows = 9\n",
        "pascals_triangle = generate_pascals_triangle(num_rows)\n",
        "print_pascals_triangle(pascals_triangle)\n"
      ],
      "metadata": {
        "colab": {
          "base_uri": "https://localhost:8080/"
        },
        "id": "XuxKDft2QKUe",
        "outputId": "d371e116-a4c5-44dd-d02f-dee8bc3533b7"
      },
      "execution_count": null,
      "outputs": [
        {
          "output_type": "stream",
          "name": "stdout",
          "text": [
            "             1             \n",
            "            1 1            \n",
            "           1 2 1           \n",
            "          1 3 3 1          \n",
            "         1 4 6 4 1         \n",
            "       1 5 10 10 5 1       \n",
            "      1 6 15 20 15 6 1     \n",
            "    1 7 21 35 35 21 7 1    \n",
            "   1 8 28 56 70 56 28 8 1  \n"
          ]
        }
      ]
    },
    {
      "cell_type": "code",
      "source": [
        "# find least positive missing number.\n",
        "my_list = [4,1,2,5, 7, 6, 3]\n",
        "\n",
        "sorted_list = sorted(my_list)\n",
        "\n",
        "for i in range(len(sorted_list) - 1):\n",
        "    if sorted_list[i] + 1 != sorted_list[i + 1]:\n",
        "        print(\"Missing value is:\", sorted_list[i] + 1)\n",
        "        break"
      ],
      "metadata": {
        "colab": {
          "base_uri": "https://localhost:8080/"
        },
        "id": "YsCb3hWA-uK4",
        "outputId": "7897eda8-c5aa-4f48-f26f-bc8f075e5e53"
      },
      "execution_count": null,
      "outputs": [
        {
          "output_type": "stream",
          "name": "stdout",
          "text": [
            "Missing value is: 2\n"
          ]
        }
      ]
    },
    {
      "cell_type": "code",
      "source": [
        "lis=[1,4,6,3,9,13]\n",
        "count=1\n",
        "for i in lis:\n",
        "    if count not in lis:\n",
        "      print(count)\n",
        "    count+=1"
      ],
      "metadata": {
        "colab": {
          "base_uri": "https://localhost:8080/"
        },
        "id": "npqCpnUt_ryb",
        "outputId": "fdb85313-e578-40cc-caaf-da54e5a17c95"
      },
      "execution_count": null,
      "outputs": [
        {
          "output_type": "stream",
          "name": "stdout",
          "text": [
            "2\n",
            "5\n"
          ]
        }
      ]
    },
    {
      "cell_type": "code",
      "source": [
        "def longest(string):\n",
        "    words = string.split()\n",
        "    longest_word = max(words, key=len)\n",
        "\n",
        "    print(\"Longest word is:\", longest_word)\n",
        "    print(\"Length of the longest word is:\", len(longest_word))\n",
        "\n",
        "string = \"Tiger Analytics Coding Questions\"\n",
        "longest(string)\n"
      ],
      "metadata": {
        "id": "bVog1aG2H6yx",
        "colab": {
          "base_uri": "https://localhost:8080/"
        },
        "outputId": "013ff4c8-85ad-42f0-bec9-c82d0559fd7d"
      },
      "execution_count": null,
      "outputs": [
        {
          "output_type": "stream",
          "name": "stdout",
          "text": [
            "Longest word is: Analytics\n",
            "Length of the longest word is: 9\n"
          ]
        }
      ]
    },
    {
      "cell_type": "code",
      "source": [
        "arr1=[5,1,3,-5]\n",
        "arr2=[8,3,-7,2]\n",
        "\n",
        "i=0\n",
        "j=len(arr2)\n",
        "arr=[]\n",
        "for k in range(1,len(arr1)+1):\n",
        "  arr3=arr1[i]*arr2[j-1]\n",
        "  i+=1\n",
        "  j-=1\n",
        "  arr.append(arr3)\n",
        "sum=sum(arr)\n",
        "print(sum)-\n"
      ],
      "metadata": {
        "colab": {
          "base_uri": "https://localhost:8080/",
          "height": 237
        },
        "id": "_4qyk_VJ_MWr",
        "outputId": "956851f7-db8b-4a26-dad9-413608939afb"
      },
      "execution_count": null,
      "outputs": [
        {
          "output_type": "error",
          "ename": "TypeError",
          "evalue": "ignored",
          "traceback": [
            "\u001b[0;31m---------------------------------------------------------------------------\u001b[0m",
            "\u001b[0;31mTypeError\u001b[0m                                 Traceback (most recent call last)",
            "\u001b[0;32m<ipython-input-20-82f590a5aa0b>\u001b[0m in \u001b[0;36m<cell line: 12>\u001b[0;34m()\u001b[0m\n\u001b[1;32m     10\u001b[0m   \u001b[0mj\u001b[0m\u001b[0;34m-=\u001b[0m\u001b[0;36m1\u001b[0m\u001b[0;34m\u001b[0m\u001b[0;34m\u001b[0m\u001b[0m\n\u001b[1;32m     11\u001b[0m   \u001b[0marr\u001b[0m\u001b[0;34m.\u001b[0m\u001b[0mappend\u001b[0m\u001b[0;34m(\u001b[0m\u001b[0marr3\u001b[0m\u001b[0;34m)\u001b[0m\u001b[0;34m\u001b[0m\u001b[0;34m\u001b[0m\u001b[0m\n\u001b[0;32m---> 12\u001b[0;31m \u001b[0msum\u001b[0m\u001b[0;34m=\u001b[0m\u001b[0msum\u001b[0m\u001b[0;34m(\u001b[0m\u001b[0marr\u001b[0m\u001b[0;34m)\u001b[0m\u001b[0;34m\u001b[0m\u001b[0;34m\u001b[0m\u001b[0m\n\u001b[0m\u001b[1;32m     13\u001b[0m \u001b[0mprint\u001b[0m\u001b[0;34m(\u001b[0m\u001b[0msum\u001b[0m\u001b[0;34m)\u001b[0m\u001b[0;34m\u001b[0m\u001b[0;34m\u001b[0m\u001b[0m\n",
            "\u001b[0;31mTypeError\u001b[0m: 'int' object is not callable"
          ]
        }
      ]
    },
    {
      "cell_type": "code",
      "source": [
        "def subArraySum(arr, n, s):\n",
        "    i = 0\n",
        "    j = 0\n",
        "    current_sum = arr[0]\n",
        "\n",
        "    while j < n:\n",
        "        if current_sum == s:\n",
        "            return i, j\n",
        "\n",
        "        if current_sum < s:\n",
        "            j += 1\n",
        "            if j < n:\n",
        "                current_sum += arr[j]\n",
        "        else:\n",
        "            current_sum -= arr[i]\n",
        "            i += 1\n",
        "\n",
        "    return -1, -1  # Return -1, -1 if no subarray is found\n",
        "\n",
        "# Example usage:\n",
        "arr = [1, 2, 3, 4, 5, 6, 7, 8, 9]\n",
        "n = len(arr)\n",
        "s = 7\n",
        "result = subArraySum(arr, n, s)\n",
        "\n",
        "if result[0] == -1:\n",
        "    print(\"No subarray found with the given sum.\")\n",
        "else:\n",
        "    print(\"Subarray with sum\", s, \"found at indices:\", result)\n"
      ],
      "metadata": {
        "colab": {
          "base_uri": "https://localhost:8080/"
        },
        "id": "qB0tX7GJCLjy",
        "outputId": "35d188b6-5329-4cad-fa08-f865e43096c8"
      },
      "execution_count": null,
      "outputs": [
        {
          "output_type": "stream",
          "name": "stdout",
          "text": [
            "Subarray with sum 7 found at indices: (2, 3)\n"
          ]
        }
      ]
    },
    {
      "cell_type": "code",
      "source": [
        "def countTriplet(arr, n):\n",
        "    arr = sorted(arr)\n",
        "    count = 0\n",
        "\n",
        "    for i in range(n - 2):\n",
        "        for j in range(i + 1, n):\n",
        "            s = arr[i] + arr[j]\n",
        "            if s in arr[j + 1:]:\n",
        "                count += 1\n",
        "\n",
        "    return count\n"
      ],
      "metadata": {
        "colab": {
          "base_uri": "https://localhost:8080/"
        },
        "id": "avMZ_ng1b1I-",
        "outputId": "f15ca8e1-9f7d-40f5-a9fa-a03aeeca2697"
      },
      "execution_count": null,
      "outputs": [
        {
          "output_type": "stream",
          "name": "stdout",
          "text": [
            "Number of triplets: 0\n"
          ]
        }
      ]
    },
    {
      "cell_type": "code",
      "source": [
        "def merge_arrays(arr1, arr2):\n",
        "    arr1 = sorted(arr1)\n",
        "    arr2 = sorted(arr2)\n",
        "    arr = []\n",
        "    j = 0\n",
        "    i = 0\n",
        "\n",
        "    while i < len(arr1) and j < len(arr2):\n",
        "        if arr1[i] < arr2[j]:  # Corrected the condition\n",
        "            arr.append(arr1[i])\n",
        "            i += 1\n",
        "        else:\n",
        "            arr.append(arr2[j])\n",
        "            j += 1\n",
        "\n",
        "    # Append the remaining elements from arr1 (if any)\n",
        "    while i < len(arr1):\n",
        "        arr.append(arr1[i])\n",
        "        i += 1\n",
        "\n",
        "    # Append the remaining elements from arr2 (if any)\n",
        "    while j < len(arr2):\n",
        "        arr.append(arr2[j])\n",
        "        j += 1\n",
        "\n",
        "    return arr\n",
        "\n",
        "# Example usage:\n",
        "arr1 = [1, 3, 5, 7]\n",
        "arr2 = [0, 2, 6, 8, 9]\n",
        "result = merge_arrays(arr1, arr2)\n",
        "print(result)\n"
      ],
      "metadata": {
        "colab": {
          "base_uri": "https://localhost:8080/"
        },
        "id": "QFrEYv7rdVjX",
        "outputId": "18901a0d-263c-41a6-d0b7-3608d9f4899e"
      },
      "execution_count": null,
      "outputs": [
        {
          "output_type": "stream",
          "name": "stdout",
          "text": [
            "[0, 1, 2, 3, 5, 6, 7, 8, 9]\n"
          ]
        }
      ]
    },
    {
      "cell_type": "code",
      "source": [
        "def matchingStrings(strings, queries):\n",
        "    # Write your code here\n",
        "    count=0\n",
        "    res=[]\n",
        "    for s in queries:\n",
        "        for k in strings:\n",
        "            if s==k:\n",
        "                count+=1\n",
        "        res.append(count)\n",
        "        count=0\n",
        "    return res\n",
        "\n",
        "strings=['ab','ab','abc']\n",
        "queries=['ab','abc','bc']\n",
        "\n",
        "matchingStrings(strings,queries)"
      ],
      "metadata": {
        "id": "M87_TiUX6mk7",
        "colab": {
          "base_uri": "https://localhost:8080/"
        },
        "outputId": "3c45a2e0-47e2-4d4f-e075-8bea653f6302"
      },
      "execution_count": null,
      "outputs": [
        {
          "output_type": "execute_result",
          "data": {
            "text/plain": [
              "[2, 1, 0]"
            ]
          },
          "metadata": {},
          "execution_count": 2
        }
      ]
    },
    {
      "cell_type": "code",
      "source": [
        "def print_staircase(n):\n",
        "    for i in range(1, n + 1):\n",
        "        spaces = \" \" * (n - i)\n",
        "        hashes = \"#\" * i\n",
        "        print(spaces + hashes)\n",
        "\n",
        "# Example usage:\n",
        "print_staircase(5)"
      ],
      "metadata": {
        "colab": {
          "base_uri": "https://localhost:8080/"
        },
        "id": "Jbpl_24OSPWw",
        "outputId": "0c0ad944-57ce-400e-8d2d-e2118581aff7"
      },
      "execution_count": null,
      "outputs": [
        {
          "output_type": "stream",
          "name": "stdout",
          "text": [
            "    #\n",
            "   ##\n",
            "  ###\n",
            " ####\n",
            "#####\n"
          ]
        }
      ]
    },
    {
      "cell_type": "code",
      "source": [
        "arr = [1, 3, 5, 7, 9]\n",
        "\n",
        "a=max(arr)\n",
        "b=min(arr)\n",
        "arr.remove(a)\n",
        "sum(arr)"
      ],
      "metadata": {
        "colab": {
          "base_uri": "https://localhost:8080/"
        },
        "id": "N_0F1SVpCqby",
        "outputId": "6f8d772b-7ab2-488a-c39c-0814df9e98e9"
      },
      "execution_count": null,
      "outputs": [
        {
          "output_type": "execute_result",
          "data": {
            "text/plain": [
              "16"
            ]
          },
          "metadata": {},
          "execution_count": 9
        }
      ]
    },
    {
      "cell_type": "code",
      "source": [
        "def miniMaxSum(arr):\n",
        "    # Write your code here\n",
        "    arr=sorted(arr)\n",
        "    res=[]\n",
        "\n",
        "    for i in range(len(arr)):\n",
        "        s=sum(arr)-arr[i]\n",
        "        res.append(s)\n",
        "    return[min(res),max(res)]\n",
        "\n",
        "arr = [1, 2,3,4,5]\n",
        "miniMaxSum(arr)"
      ],
      "metadata": {
        "colab": {
          "base_uri": "https://localhost:8080/"
        },
        "id": "dZ4ZjdJLC0ZO",
        "outputId": "cb6939cc-c177-4d48-de29-23dce45b1acb"
      },
      "execution_count": null,
      "outputs": [
        {
          "output_type": "stream",
          "name": "stdout",
          "text": [
            "14\n"
          ]
        },
        {
          "output_type": "execute_result",
          "data": {
            "text/plain": [
              "[10, 14]"
            ]
          },
          "metadata": {},
          "execution_count": 23
        }
      ]
    },
    {
      "cell_type": "code",
      "source": [
        "arr=[2,3,6,6,5]\n",
        "unique=[]"
      ],
      "metadata": {
        "colab": {
          "base_uri": "https://localhost:8080/"
        },
        "id": "nAvja-DrEAwA",
        "outputId": "a7432099-0dc0-434a-9fc0-6bb32740f5ea"
      },
      "execution_count": null,
      "outputs": [
        {
          "output_type": "stream",
          "name": "stdout",
          "text": [
            "2\n"
          ]
        }
      ]
    },
    {
      "cell_type": "code",
      "source": [
        "for num in arr:\n",
        "  if num not in unique:\n",
        "    unique.append(num)\n",
        "print(sorted(unique))"
      ],
      "metadata": {
        "colab": {
          "base_uri": "https://localhost:8080/"
        },
        "id": "p550Ep1pJKVN",
        "outputId": "b51ba439-d9ac-4689-d63b-69cf9093778b"
      },
      "execution_count": null,
      "outputs": [
        {
          "output_type": "stream",
          "name": "stdout",
          "text": [
            "[2, 3, 5, 6]\n"
          ]
        }
      ]
    },
    {
      "cell_type": "code",
      "source": [
        "left=[]\n",
        "right=[]\n",
        "nums=[9,12,5,10,14,3,10]\n",
        "pivot=10\n",
        "for num in nums:\n",
        "  if num<pivot:\n",
        "    left.append(num)\n",
        "  else:\n",
        "    right.append(num)\n",
        "left.sort(key=lambda x:nums.index(x))\n",
        "right.sort()\n",
        "print(left+right)"
      ],
      "metadata": {
        "id": "pQ-l5ywAJs_S",
        "colab": {
          "base_uri": "https://localhost:8080/"
        },
        "outputId": "33d9679c-5fe3-4277-af18-39eb90cc75ff"
      },
      "execution_count": 4,
      "outputs": [
        {
          "output_type": "stream",
          "name": "stdout",
          "text": [
            "[9, 5, 3, 12, 10, 14, 10]\n"
          ]
        }
      ]
    }
  ]
}