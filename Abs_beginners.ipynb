{
  "nbformat": 4,
  "nbformat_minor": 0,
  "metadata": {
    "colab": {
      "provenance": []
    },
    "kernelspec": {
      "name": "python3",
      "display_name": "Python 3"
    },
    "language_info": {
      "name": "python"
    }
  },
  "cells": [
    {
      "cell_type": "markdown",
      "source": [
        "# Q1\n"
      ],
      "metadata": {
        "id": "uuNA4ZNfsfHh"
      }
    },
    {
      "cell_type": "code",
      "execution_count": null,
      "metadata": {
        "colab": {
          "base_uri": "https://localhost:8080/"
        },
        "id": "prHjmRflsa2K",
        "outputId": "c16acd25-ff09-410d-ff43-7d0a0ca0cfd5"
      },
      "outputs": [
        {
          "output_type": "stream",
          "name": "stdout",
          "text": [
            "15\n",
            "97.43\n"
          ]
        }
      ],
      "source": [
        "# Get the area of triangle:\n",
        "a=float(input(\"\"))\n",
        "b=3**0.5\n",
        "\n",
        "area=(b*a*a)/4\n",
        "area=round(area,2)\n",
        "print(area)\n"
      ]
    },
    {
      "cell_type": "markdown",
      "source": [
        "# Q2\n"
      ],
      "metadata": {
        "id": "iS3ZaAwZstRi"
      }
    },
    {
      "cell_type": "code",
      "source": [
        "## Degree to farenheigt\n",
        "#Getting input via STDIN\n",
        "userInput = float(input())\n",
        "\n",
        "a=9/5\n",
        "faren=(userInput*a)+32\n",
        "faren=round(faren,2)\n",
        "print(faren)\n"
      ],
      "metadata": {
        "colab": {
          "base_uri": "https://localhost:8080/"
        },
        "id": "HH4PRbZysstg",
        "outputId": "005b795a-c683-4e58-f051-5238f3d7b62f"
      },
      "execution_count": null,
      "outputs": [
        {
          "output_type": "stream",
          "name": "stdout",
          "text": [
            "32\n",
            "89.6\n"
          ]
        }
      ]
    },
    {
      "cell_type": "markdown",
      "source": [
        "# Q3\n"
      ],
      "metadata": {
        "id": "F13v5k1Qs-kM"
      }
    },
    {
      "cell_type": "code",
      "source": [
        "A=float(input())\n",
        "B=float(input())\n",
        "C=A+B\n",
        "C=round(C,1)\n",
        "print(C)"
      ],
      "metadata": {
        "colab": {
          "base_uri": "https://localhost:8080/"
        },
        "id": "J7F4Q08ZtBd2",
        "outputId": "47974ecb-6741-43ed-ad4f-40c38f765cad"
      },
      "execution_count": null,
      "outputs": [
        {
          "output_type": "stream",
          "name": "stdout",
          "text": [
            "5\n",
            "6\n",
            "11.0\n"
          ]
        }
      ]
    },
    {
      "cell_type": "markdown",
      "source": [
        "# Q4\n"
      ],
      "metadata": {
        "id": "7TTRnTwItF1u"
      }
    },
    {
      "cell_type": "code",
      "source": [
        "# multiples\n",
        "N=input()\n",
        "a=int(N)*2\n",
        "b=int(N)*3\n",
        "\n",
        "print(N,a,b)"
      ],
      "metadata": {
        "colab": {
          "base_uri": "https://localhost:8080/"
        },
        "id": "smAgpeMotFQK",
        "outputId": "bbfb9edd-0f71-4f96-97b3-b16704c82c3e"
      },
      "execution_count": null,
      "outputs": [
        {
          "output_type": "stream",
          "name": "stdout",
          "text": [
            "7\n",
            "7 14 21\n"
          ]
        }
      ]
    },
    {
      "cell_type": "markdown",
      "source": [
        "# Q5\n"
      ],
      "metadata": {
        "id": "41ecKa5mtNEl"
      }
    },
    {
      "cell_type": "code",
      "source": [
        "# Nth squre no:\n",
        "N=int(input())\n",
        "if(N<0):\n",
        "    print(\"Error\")\n",
        "elif(N==0):\n",
        "    print(0)\n",
        "else:\n",
        "    print(N**2)\n",
        "    "
      ],
      "metadata": {
        "colab": {
          "base_uri": "https://localhost:8080/"
        },
        "id": "S73e82PHtO-V",
        "outputId": "03b86ea3-bd50-424b-a0c3-7e2fde9a3ed0"
      },
      "execution_count": null,
      "outputs": [
        {
          "output_type": "stream",
          "name": "stdout",
          "text": [
            "-5\n",
            "Error\n"
          ]
        }
      ]
    },
    {
      "cell_type": "markdown",
      "source": [
        "# Q6\n"
      ],
      "metadata": {
        "id": "vYbi4zRKtVo8"
      }
    },
    {
      "cell_type": "code",
      "source": [
        "# factorial\n",
        "N=int(input())\n",
        "for i in range (1,N):\n",
        "    N=N*i\n",
        "    i=i-1\n",
        "print(N)\n"
      ],
      "metadata": {
        "colab": {
          "base_uri": "https://localhost:8080/"
        },
        "id": "eb7hSCmQtYII",
        "outputId": "5f485a88-711d-4e85-be4f-0ec0fcfd2fb2"
      },
      "execution_count": null,
      "outputs": [
        {
          "output_type": "stream",
          "name": "stdout",
          "text": [
            "7\n",
            "5040\n"
          ]
        }
      ]
    },
    {
      "cell_type": "markdown",
      "source": [
        "# Q7\n"
      ],
      "metadata": {
        "id": "e-JbcXiXtgRZ"
      }
    },
    {
      "cell_type": "code",
      "source": [
        "#Smallest no:\n",
        "numbers = input().split()\n",
        "num1 = int(numbers[0])\n",
        "num2 = int(numbers[1])\n",
        "\n",
        "# Compare and print the smaller number\n",
        "if num1 < num2:\n",
        "    print(num1)\n",
        "else:\n",
        "    print(num2)\n"
      ],
      "metadata": {
        "colab": {
          "base_uri": "https://localhost:8080/"
        },
        "id": "ZA-FD2B9tiC-",
        "outputId": "9fb15677-d6dd-4070-f284-a75a192481bb"
      },
      "execution_count": null,
      "outputs": [
        {
          "output_type": "stream",
          "name": "stdout",
          "text": [
            "23 11\n",
            "11\n"
          ]
        }
      ]
    },
    {
      "cell_type": "markdown",
      "source": [
        "# Q8\n"
      ],
      "metadata": {
        "id": "Q644lUpitn6F"
      }
    },
    {
      "cell_type": "code",
      "source": [
        "# Odd even:\n",
        "\n",
        "N=float(input())\n",
        "N=round(N)\n",
        "\n",
        "if(N==0):\n",
        "    print(\"Zero\")\n",
        "elif(N%2==0):\n",
        "    print(\"Even\")\n",
        "else:\n",
        "    print(\"Odd\")\n",
        "    "
      ],
      "metadata": {
        "colab": {
          "base_uri": "https://localhost:8080/"
        },
        "id": "QlnJkdZztpPl",
        "outputId": "f2cd402e-348f-45ae-a814-958af931765f"
      },
      "execution_count": null,
      "outputs": [
        {
          "output_type": "stream",
          "name": "stdout",
          "text": [
            "8\n",
            "Even\n"
          ]
        }
      ]
    },
    {
      "cell_type": "markdown",
      "source": [
        "# Q9\n"
      ],
      "metadata": {
        "id": "8ElTmxJNu0vX"
      }
    },
    {
      "cell_type": "code",
      "source": [
        "A=int(input())\n",
        "B=int(input())\n",
        "C=A*B\n",
        "print(C)"
      ],
      "metadata": {
        "colab": {
          "base_uri": "https://localhost:8080/"
        },
        "id": "XQTuKe4Tu29b",
        "outputId": "38cbf1b0-de5c-4fed-ae2a-f3e9431e9d80"
      },
      "execution_count": null,
      "outputs": [
        {
          "output_type": "stream",
          "name": "stdout",
          "text": [
            "2\n",
            "3\n",
            "6\n"
          ]
        }
      ]
    },
    {
      "cell_type": "markdown",
      "source": [
        "# Q10\n"
      ],
      "metadata": {
        "id": "Xly1YSQ1v2Xc"
      }
    },
    {
      "cell_type": "code",
      "source": [
        "A=int(input())\n",
        "B=int(input())\n",
        "C=int(input())\n",
        "\n",
        "if A>B and A>C:\n",
        "    print(A)\n",
        "elif B>A and B>C:\n",
        "    print(B)\n",
        "else:\n",
        "    print(C)"
      ],
      "metadata": {
        "colab": {
          "base_uri": "https://localhost:8080/"
        },
        "id": "jO_33MxAv39o",
        "outputId": "39f47e1f-b2c5-4ed9-a7e2-84e9ec9777ca"
      },
      "execution_count": null,
      "outputs": [
        {
          "output_type": "stream",
          "name": "stdout",
          "text": [
            "-11\n",
            "0\n",
            "5\n",
            "5\n"
          ]
        }
      ]
    },
    {
      "cell_type": "markdown",
      "source": [
        "# Q11\n"
      ],
      "metadata": {
        "id": "neRLqVbul9BO"
      }
    },
    {
      "cell_type": "code",
      "source": [
        "# Quadratic\n",
        "coeff=input()\n",
        "coeff=coeff.split()\n",
        "A,B,C=map(float,coeff)\n",
        "\n",
        "q=((B**2)-(4*A*C))**0.5\n",
        "\n",
        "r1=((-B)+q)/2*A\n",
        "r2=((-B)-q)/2*A\n",
        "\n",
        "r1=round(r1,2)\n",
        "r2=round(r2,2)\n",
        "\n",
        "print(r1)\n",
        "print(r2)\n",
        "\n",
        "\n",
        "## another way\n",
        "# Quadratic\n",
        "coeff=input()\n",
        "coeff=coeff.split()\n",
        "A,B,C=map(float,coeff)\n",
        "\n",
        "q=((B**2)-(4*A*C))**0.5\n",
        "\n",
        "r1=((-B)+q)/(2*A)\n",
        "r2=((-B)-q)/(2*A)\n",
        "\n",
        "print(f\"{r1:.2f}\")\n",
        "print(f\"{r2:.2f}\")\n",
        "\n",
        "\n"
      ],
      "metadata": {
        "colab": {
          "base_uri": "https://localhost:8080/"
        },
        "id": "DfSSVoAYmC1P",
        "outputId": "49b50060-b9ba-4215-af20-f2ae750a3722"
      },
      "execution_count": null,
      "outputs": [
        {
          "output_type": "stream",
          "name": "stdout",
          "text": [
            "3 2 -1\n",
            "3.0\n",
            "-9.0\n"
          ]
        }
      ]
    },
    {
      "cell_type": "markdown",
      "source": [
        "# Q12"
      ],
      "metadata": {
        "id": "edCr8X-aqKke"
      }
    },
    {
      "cell_type": "code",
      "source": [
        "value=input()\n",
        "value=value.split()\n",
        "P,T,R =map(float,value)\n",
        "\n",
        "si=(P*T*R)/100\n",
        "    \n",
        "print(f\"{si:.2f}\")\n"
      ],
      "metadata": {
        "colab": {
          "base_uri": "https://localhost:8080/"
        },
        "id": "EuMpq3P5qL9N",
        "outputId": "70264ff7-32a5-4075-ca64-967d6589c406"
      },
      "execution_count": null,
      "outputs": [
        {
          "output_type": "stream",
          "name": "stdout",
          "text": [
            "1000 2 5\n",
            "100.00\n"
          ]
        }
      ]
    },
    {
      "cell_type": "markdown",
      "source": [
        "# Q13\n"
      ],
      "metadata": {
        "id": "51uTlWiosWAY"
      }
    },
    {
      "cell_type": "code",
      "source": [
        "N=int(input())\n",
        "if (N==0):\n",
        "    print(\"NULL\")\n",
        "\n",
        "for i in range(1,N+1):\n",
        "    t=9*i\n",
        "    print(t,end=\" \")\n"
      ],
      "metadata": {
        "colab": {
          "base_uri": "https://localhost:8080/"
        },
        "id": "iHAnlwUlsXYM",
        "outputId": "a8c4fbe8-02b4-457a-d98d-c2bda4c788c4"
      },
      "execution_count": null,
      "outputs": [
        {
          "output_type": "stream",
          "name": "stdout",
          "text": [
            "10\n",
            "9 18 27 36 45 54 63 72 81 90 "
          ]
        }
      ]
    },
    {
      "cell_type": "markdown",
      "source": [
        "# Q14\n"
      ],
      "metadata": {
        "id": "3YEpyo0nuhbU"
      }
    },
    {
      "cell_type": "code",
      "source": [
        "N=int(input())\n",
        "if(N>12 or N==0):\n",
        "    print(\"Error\")\n",
        "elif(N==2):\n",
        "    print(28)\n",
        "elif(N%2==0):\n",
        "    print(30)\n",
        "else:\n",
        "    print(31)\n"
      ],
      "metadata": {
        "colab": {
          "base_uri": "https://localhost:8080/"
        },
        "id": "NYthPSX5tc2o",
        "outputId": "b80a0d9b-07bc-4acd-8b68-04e613ad786b"
      },
      "execution_count": null,
      "outputs": [
        {
          "output_type": "stream",
          "name": "stdout",
          "text": [
            "0\n",
            "Error\n"
          ]
        }
      ]
    },
    {
      "cell_type": "markdown",
      "source": [
        "# Q15"
      ],
      "metadata": {
        "id": "Bbp3BGztvrN4"
      }
    },
    {
      "cell_type": "code",
      "source": [
        "A=input()\n",
        "A=A.replace(\" \",\"\")\n",
        "print(len(A))\n"
      ],
      "metadata": {
        "colab": {
          "base_uri": "https://localhost:8080/"
        },
        "id": "1lEPezzdvtRm",
        "outputId": "a4ca0c3e-81e5-42a1-f3f6-9f596a2e561e"
      },
      "execution_count": null,
      "outputs": [
        {
          "output_type": "stream",
          "name": "stdout",
          "text": [
            "Lorem Ipsum\n",
            "10\n"
          ]
        }
      ]
    },
    {
      "cell_type": "markdown",
      "source": [
        "# Q16"
      ],
      "metadata": {
        "id": "ML4CQRpGwwPa"
      }
    },
    {
      "cell_type": "code",
      "source": [
        "N=int(input())\n",
        "for i in range(1,6):\n",
        "    print(N)\n",
        "    "
      ],
      "metadata": {
        "colab": {
          "base_uri": "https://localhost:8080/"
        },
        "id": "HfA0IF5jw_7a",
        "outputId": "bac3fb8a-53d1-4b3a-cfcc-1c2daa829dc0"
      },
      "execution_count": null,
      "outputs": [
        {
          "output_type": "stream",
          "name": "stdout",
          "text": [
            "5\n",
            "5\n",
            "5\n",
            "5\n",
            "5\n",
            "5\n"
          ]
        }
      ]
    },
    {
      "cell_type": "markdown",
      "source": [
        "# Q17"
      ],
      "metadata": {
        "id": "yNfH0imRwyqy"
      }
    },
    {
      "cell_type": "code",
      "source": [
        "\n",
        "N=int(input())\n",
        "sum=0;\n",
        "for i in range(1,N+1):\n",
        "  sum +=i\n",
        "  print(sum)\n",
        "\n",
        "print(sum)\n",
        "\n"
      ],
      "metadata": {
        "colab": {
          "base_uri": "https://localhost:8080/"
        },
        "id": "bz3DUvdVx_jg",
        "outputId": "618af12c-a35f-44f1-97a1-466606f2b553"
      },
      "execution_count": null,
      "outputs": [
        {
          "output_type": "stream",
          "name": "stdout",
          "text": [
            "10\n",
            "1\n",
            "3\n",
            "6\n",
            "10\n",
            "15\n",
            "21\n",
            "28\n",
            "36\n",
            "45\n",
            "55\n",
            "55\n"
          ]
        }
      ]
    },
    {
      "cell_type": "markdown",
      "source": [
        "# Q18"
      ],
      "metadata": {
        "id": "auaboQw1w0NM"
      }
    },
    {
      "cell_type": "code",
      "source": [
        "N=int(input())\n",
        "\n",
        "for i in range(1,N+1):\n",
        "    print(i)\n"
      ],
      "metadata": {
        "id": "qNswz1G50_eI"
      },
      "execution_count": null,
      "outputs": []
    },
    {
      "cell_type": "markdown",
      "source": [
        "# Q 19"
      ],
      "metadata": {
        "id": "6DhrEQnYw2e7"
      }
    },
    {
      "cell_type": "code",
      "source": [
        "A=float(input())\n",
        "\n",
        "if(A<0):\n",
        "    print(\"Error\")\n",
        "else:\n",
        "    c=(2*3.14*A)\n",
        "    print(f\"{c:.2f}\")"
      ],
      "metadata": {
        "colab": {
          "base_uri": "https://localhost:8080/"
        },
        "id": "6W3-tnNU1A4L",
        "outputId": "dcfa446c-fdf6-4cbd-b35d-2d34f9ae8a4e"
      },
      "execution_count": null,
      "outputs": [
        {
          "output_type": "stream",
          "name": "stdout",
          "text": [
            "-5\n",
            "Error\n"
          ]
        }
      ]
    },
    {
      "cell_type": "markdown",
      "source": [
        "# Q20"
      ],
      "metadata": {
        "id": "KiWKpiIzw4hO"
      }
    },
    {
      "cell_type": "code",
      "source": [
        "number= input()\n",
        "sum_of_digits = 0\n",
        "\n",
        "for digit_char in str(number):\n",
        "    digit = int(digit_char)\n",
        "    sum_of_digits += digit\n",
        "\n",
        "print(sum_of_digits)"
      ],
      "metadata": {
        "colab": {
          "base_uri": "https://localhost:8080/"
        },
        "id": "AyzhOR102sos",
        "outputId": "a5cd4269-3602-4bca-efb3-cca7ac5a3acf"
      },
      "execution_count": null,
      "outputs": [
        {
          "output_type": "stream",
          "name": "stdout",
          "text": [
            "215\n",
            "8\n"
          ]
        }
      ]
    },
    {
      "cell_type": "markdown",
      "source": [],
      "metadata": {
        "id": "zWEIlNTa2cZW"
      }
    },
    {
      "cell_type": "markdown",
      "source": [
        "# Q21"
      ],
      "metadata": {
        "id": "V5DffmFUw7Lf"
      }
    },
    {
      "cell_type": "code",
      "source": [
        "# Get input\n",
        "A = int(input())\n",
        "B = int(input())\n",
        "C = int(input())\n",
        "\n",
        "# Print output\n",
        "print(A, B, C, sep=\" \")"
      ],
      "metadata": {
        "colab": {
          "base_uri": "https://localhost:8080/"
        },
        "id": "JW35e9VVwu1J",
        "outputId": "767ba73b-3454-4ce6-8a60-8c8c2ace26c9"
      },
      "execution_count": null,
      "outputs": [
        {
          "output_type": "stream",
          "name": "stdout",
          "text": [
            "10\n",
            "2\n",
            "3\n",
            "10 2 3\n"
          ]
        }
      ]
    },
    {
      "cell_type": "code",
      "source": [
        "A=input()\n",
        "\n",
        "B=\" \".join(A)\n",
        "print(B)\n"
      ],
      "metadata": {
        "colab": {
          "base_uri": "https://localhost:8080/"
        },
        "id": "xBRRdwDh1J1O",
        "outputId": "421cc869-4be8-40f7-db22-cc394dbd0bdd"
      },
      "execution_count": null,
      "outputs": [
        {
          "output_type": "stream",
          "name": "stdout",
          "text": [
            "GUVi\n",
            "G U V i\n"
          ]
        }
      ]
    },
    {
      "cell_type": "code",
      "source": [
        "\"\"\"\n",
        "# Get input\n",
        "A = (input())\n",
        "B = (input())\n",
        "C = (input())\n",
        "\n",
        "# Print output\n",
        "print(float(A))\n",
        "print(B)\n",
        "print(C)\n",
        "\"\"\"\n",
        "# Get input\n",
        "input_line = input()\n",
        "\n",
        "# Split the input into a list of float values\n",
        "float_values = input_line.split()\n",
        "\n",
        "# Print output\n",
        "for value in float_values:\n",
        "    print(value)\n",
        "\n",
        "\n"
      ],
      "metadata": {
        "colab": {
          "base_uri": "https://localhost:8080/"
        },
        "id": "LrgzH9972XyC",
        "outputId": "0a576f73-2bf2-479f-8662-cc5d02154644"
      },
      "execution_count": null,
      "outputs": [
        {
          "output_type": "stream",
          "name": "stdout",
          "text": [
            "2.5 3.5 85.2\n",
            "2.5\n",
            "3.5\n",
            "85.2\n"
          ]
        }
      ]
    },
    {
      "cell_type": "code",
      "source": [
        "A=input()\n",
        "\n",
        "for char in A:\n",
        "    print(char)"
      ],
      "metadata": {
        "colab": {
          "base_uri": "https://localhost:8080/"
        },
        "id": "5smDNHXQ4lGY",
        "outputId": "997ceb9e-630a-4507-d1ec-c398b3df81ff"
      },
      "execution_count": null,
      "outputs": [
        {
          "name": "stdout",
          "output_type": "stream",
          "text": [
            "input\n"
          ]
        }
      ]
    },
    {
      "cell_type": "code",
      "source": [
        "A=input()\n",
        "\n",
        "B=\",\".join(A)\n",
        "print(B)"
      ],
      "metadata": {
        "colab": {
          "base_uri": "https://localhost:8080/"
        },
        "id": "ITmmmNVa6y3k",
        "outputId": "336030a7-fcde-4b08-922b-0c00e0a9949a"
      },
      "execution_count": 19,
      "outputs": [
        {
          "output_type": "stream",
          "name": "stdout",
          "text": [
            "input\n",
            "i,n,p,u,t\n"
          ]
        }
      ]
    },
    {
      "cell_type": "code",
      "source": [
        "N=int(input())\n",
        "\n",
        "while(N>0):\n",
        "  print(N)\n",
        "  N=N-1"
      ],
      "metadata": {
        "colab": {
          "base_uri": "https://localhost:8080/"
        },
        "id": "61g244uP8tNw",
        "outputId": "0f753b10-468d-4bcf-c311-b66a09294bde"
      },
      "execution_count": 7,
      "outputs": [
        {
          "output_type": "stream",
          "name": "stdout",
          "text": [
            "10\n",
            "10\n",
            "9\n",
            "8\n",
            "7\n",
            "6\n",
            "5\n",
            "4\n",
            "3\n",
            "2\n",
            "1\n"
          ]
        }
      ]
    },
    {
      "cell_type": "code",
      "source": [
        "A = int(input())\n",
        "\n",
        "if A % 4 == 0 and (A % 400 == 0 or A % 100 != 0):\n",
        "    print(\"Y\")\n",
        "else:\n",
        "    print(\"N\")\n"
      ],
      "metadata": {
        "colab": {
          "base_uri": "https://localhost:8080/"
        },
        "id": "yr3R-l4-wvlX",
        "outputId": "7d6d5185-752a-45e6-9fd9-b61562934d09"
      },
      "execution_count": 11,
      "outputs": [
        {
          "output_type": "stream",
          "name": "stdout",
          "text": [
            "2020\n",
            "Y\n"
          ]
        }
      ]
    },
    {
      "cell_type": "code",
      "source": [
        "N=int(input())\n",
        "\n",
        "for i in range(1,N+1):\n",
        "    if (i % 2 == 0):\n",
        "        print(i)"
      ],
      "metadata": {
        "colab": {
          "base_uri": "https://localhost:8080/"
        },
        "id": "5nKWPofidG-Q",
        "outputId": "87756457-e494-4a10-e86f-2799217d375b"
      },
      "execution_count": 12,
      "outputs": [
        {
          "output_type": "stream",
          "name": "stdout",
          "text": [
            "10\n",
            "2\n",
            "4\n",
            "6\n",
            "8\n",
            "10\n"
          ]
        }
      ]
    },
    {
      "cell_type": "code",
      "source": [
        "num=input()\n",
        "\n",
        "num=num.split()\n",
        "\n",
        "A,N=map(int,num)\n",
        "\n",
        "for i in range (1,N+1):\n",
        "    print(A)"
      ],
      "metadata": {
        "colab": {
          "base_uri": "https://localhost:8080/"
        },
        "id": "eNikmg1Ndt5m",
        "outputId": "fa3dd572-11c4-4ba7-cd1f-bcb5aee9492f"
      },
      "execution_count": 13,
      "outputs": [
        {
          "output_type": "stream",
          "name": "stdout",
          "text": [
            "2 3\n",
            "2\n",
            "2\n",
            "2\n"
          ]
        }
      ]
    },
    {
      "cell_type": "code",
      "source": [
        "N=int(input())\n",
        "\n",
        "num=input()\n",
        "num=num.split()\n",
        "L,R=map(int,num)\n",
        "\n",
        "if(N>L and N<R):\n",
        "    print(\"Yes\")\n",
        "    \n",
        "else:\n",
        "    print(\"no\")"
      ],
      "metadata": {
        "colab": {
          "base_uri": "https://localhost:8080/"
        },
        "id": "GRxc3IG4gWcr",
        "outputId": "17f54150-8184-4cc2-c20a-b101be4a2b4c"
      },
      "execution_count": 15,
      "outputs": [
        {
          "output_type": "stream",
          "name": "stdout",
          "text": [
            "10\n",
            "10 11\n",
            "no\n"
          ]
        }
      ]
    },
    {
      "cell_type": "code",
      "source": [
        "N=input()\n",
        "N=N.split()\n",
        "B,H=map(float,N)\n",
        "\n",
        "if (B>= 1000000 and H>= 1000000):\n",
        "    print(\"Error\")\n",
        "else:\n",
        "    A=0.5*B*H\n",
        "    print(A)"
      ],
      "metadata": {
        "colab": {
          "base_uri": "https://localhost:8080/"
        },
        "id": "Xs1opdJegWVz",
        "outputId": "882bef05-1577-438f-eaf0-519ef631cd4c"
      },
      "execution_count": 23,
      "outputs": [
        {
          "output_type": "stream",
          "name": "stdout",
          "text": [
            "2 5\n",
            "5.0\n"
          ]
        }
      ]
    },
    {
      "cell_type": "code",
      "source": [],
      "metadata": {
        "id": "8JUJDIz2kE1F"
      },
      "execution_count": null,
      "outputs": []
    }
  ]
}